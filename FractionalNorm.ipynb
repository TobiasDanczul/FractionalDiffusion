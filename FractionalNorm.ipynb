{
 "cells": [
  {
   "cell_type": "markdown",
   "id": "643b4ef6",
   "metadata": {},
   "source": [
    "# Convergence of the Reduced Basis Interpolation Norm\n",
    "\n",
    "We are interested in the efficient numerical approximation of the interpolation norm $\\|u\\|_{H^s}$, $s\\in(0,1)$, with respect to the interpolation couple $((L_2(\\Omega),\\|\\cdot\\|_{L_2}),(H_0^1(\\Omega),\\|\\nabla\\cdot\\|_{L_2}))$. For simplicity, we choose\n",
    "\\begin{align*}\n",
    "    u(\\boldsymbol{x}) = xy(1-x)(1-y), \\quad\\boldsymbol{x} = (x,y).\n",
    "\\end{align*}"
   ]
  },
  {
   "cell_type": "code",
   "execution_count": 1,
   "id": "0aeda978",
   "metadata": {},
   "outputs": [
    {
     "name": "stdout",
     "output_type": "stream",
     "text": [
      "importing NGSolve-6.2.2105\n"
     ]
    }
   ],
   "source": [
    "#import all necessary libraries\n",
    "from ngsolve import *\n",
    "from netgen.geom2d import unit_square\n",
    "import numpy as np"
   ]
  },
  {
   "cell_type": "markdown",
   "id": "a7f88d52",
   "metadata": {},
   "source": [
    "We set $\\Omega = (0,1)^2$ to be the unit square. The domain is discretized through a quasi-uniform triangular mesh of mesh-size $h = 0.08$ using the mesh-generator NETGEN."
   ]
  },
  {
   "cell_type": "code",
   "execution_count": 2,
   "id": "4734472e",
   "metadata": {},
   "outputs": [],
   "source": [
    "h = 0.08\n",
    "mesh = Mesh(unit_square.GenerateMesh(maxh = h))"
   ]
  },
  {
   "cell_type": "markdown",
   "id": "36ebd78b",
   "metadata": {},
   "source": [
    "To approximate the interpolation norm of $u$, we use a finite element space of polynomial order $3$ subject to homogeneous Dirichlet boundary conditions."
   ]
  },
  {
   "cell_type": "code",
   "execution_count": 3,
   "id": "d02f9e4c",
   "metadata": {},
   "outputs": [
    {
     "data": {
      "text/plain": [
       "<ngsolve.comp.BilinearForm at 0x7f19f45e4cf0>"
      ]
     },
     "execution_count": 3,
     "metadata": {},
     "output_type": "execute_result"
    }
   ],
   "source": [
    "fes = H1(mesh, order = 3, dirichlet = 'top|left|bottom|right')\n",
    "\n",
    "u, v = fes.TnT()\n",
    "#mass matrix\n",
    "M = BilinearForm(fes, symmetric = True)\n",
    "M +=  SymbolicBFI(u * v)\n",
    "#stiffness matrix\n",
    "A = BilinearForm(fes, symmetric = True)\n",
    "A +=  SymbolicBFI(grad(u) * grad(v))\n",
    "\n",
    "M.Assemble()\n",
    "A.Assemble()"
   ]
  },
  {
   "cell_type": "markdown",
   "id": "d27bee09",
   "metadata": {},
   "source": [
    "We now approximate the function $u$ by its $L_2$-orthonormal projection onto the finite element space."
   ]
  },
  {
   "cell_type": "code",
   "execution_count": 4,
   "id": "80ce3067",
   "metadata": {},
   "outputs": [],
   "source": [
    "u_exact = LinearForm(fes)\n",
    "u_exact += x * y * (1-x) * (1-y) * v * dx \n",
    "u_exact.Assemble()\n",
    "\n",
    "u = u_exact.vec.CreateVector()\n",
    "u.data = M.mat.Inverse(fes.FreeDofs(), inverse = 'sparsecholesky') * u_exact.vec"
   ]
  },
  {
   "cell_type": "markdown",
   "id": "a8b322c7",
   "metadata": {},
   "source": [
    "Before defining our reduced basis interpolation norm, we need to avail ourselves of the extremal eigenvalues (or good bounds for it) of the eigenvalue problem\n",
    "\\begin{align*}\n",
    "    \\langle \\nabla \\varphi_j, \\nabla v \\rangle_{L_2} = \\lambda_j \\langle \\varphi_j, v \\rangle_{L_2}\n",
    "\\end{align*}\n",
    "for all $v$ being contained in the finite element space. Since the _exact_ eigenvalues of $-\\Delta$ are given in closed form, we can bound the smallest eigenvalue by $2\\pi^2$. Hence, we set"
   ]
  },
  {
   "cell_type": "code",
   "execution_count": 5,
   "id": "546ac672",
   "metadata": {},
   "outputs": [],
   "source": [
    "lamL = 2*np.pi**2"
   ]
  },
  {
   "cell_type": "markdown",
   "id": "98352a93",
   "metadata": {},
   "source": [
    "Good analytical bounds for the largest eigenvalue are not available. We therefore approximate it by power iteration. "
   ]
  },
  {
   "cell_type": "code",
   "execution_count": 6,
   "id": "77455833",
   "metadata": {},
   "outputs": [
    {
     "name": "stdout",
     "output_type": "stream",
     "text": [
      "The upper bound for the largest eigenvalue is given by lamU =  69322.61149883266\n"
     ]
    }
   ],
   "source": [
    "def PowerIteration(A, M, FreeDofs = None, tol = 1e-8, maxit = 1e4):\n",
    "    \n",
    "    tmp1 = BaseVector(A.width)\n",
    "    tmp2 = tmp1.CreateVector()\n",
    "    w = tmp1.CreateVector()\n",
    "    w.FV().NumPy()[:] =  np.random.rand(A.width)\n",
    "\n",
    "    lamold = 0\n",
    "    diff = 100\n",
    "    counter = 0\n",
    "    with TaskManager():\n",
    "        Minv = M.Inverse(FreeDofs, inverse = \"sparsecholesky\")\n",
    "        while (diff > tol and counter < maxit):\n",
    "            tmp1.data = A * w\n",
    "            tmp2.data = Minv * tmp1\n",
    "\n",
    "            w.data = 1/sqrt(InnerProduct(tmp2,tmp2)) * tmp2\n",
    "            lam = InnerProduct(w,tmp2)/InnerProduct(w,w)\n",
    "\n",
    "            diff = abs(lam-lamold)\n",
    "            lamold = lam\n",
    "            counter += 1\n",
    "\n",
    "        if (counter == maxit):\n",
    "            print('RuntimeWarning: Power Iteration did not converge! Difference = ', diff)\n",
    "                \n",
    "        return lam\n",
    " \n",
    "lamU = PowerIteration(A.mat, M.mat, FreeDofs = fes.FreeDofs()) + 1\n",
    "print('The upper bound for the largest eigenvalue is given by lamU = ', lamU)"
   ]
  },
  {
   "cell_type": "code",
   "execution_count": 7,
   "id": "edd08f33",
   "metadata": {},
   "outputs": [],
   "source": [
    "from scipy.linalg import eigh\n",
    "\n",
    "class ReducedBasis():\n",
    "    def __init__(self, u, M):\n",
    "       \n",
    "        self.u = u\n",
    "        self.M = M\n",
    "        \n",
    "        #Create reduced basis\n",
    "        self.basis = MultiVector(u, 1)\n",
    "        self.basis[0].data = 1/sqrt(InnerProduct(u, M * u)) * u\n",
    "    \n",
    "    #Input: new basis vector bv\n",
    "    #Adds orthonormalized vector to reduced basis  \n",
    "    def Append(self, bv):\n",
    "        self.basis.AppendOrthogonalize(bv, self.M)\n",
    "        \n",
    "        #reorthogonalize twice for numerical purposes\n",
    "        self.basis.Orthogonalize(self.M)\n",
    "        self.basis.Orthogonalize(self.M)\n",
    "        \n",
    "        #normalize orthogonalized vector\n",
    "        norm = sqrt(InnerProduct(self.basis[-1], self.M * self.basis[-1]))\n",
    "        self.basis[-1].data *= 1/norm\n",
    "\n",
    "    #Input: -\n",
    "    #Output: Dimension of reduced basis space\n",
    "    def Dim(self):\n",
    "        return len(self.basis)\n",
    "  \n",
    "    #Input: -\n",
    "    #discards all basis vectors but the first one\n",
    "    def Clear(self):\n",
    "        tmp = self.u.CreateVector()\n",
    "        tmp.data = self.basis[0]\n",
    "        self.basis = MultiVector(self.u, 1)\n",
    "        self.basis[0].data = tmp\n",
    "\n",
    "    #Input: Vector v\n",
    "    #Output: M-othogonal projection of v onto the reduced basis space\n",
    "    def Project(self, v):\n",
    "        vs = Vector(self.Dim())\n",
    "        for i in range(self.Dim()):\n",
    "                vs[i] = InnerProduct(self.basis[i], self.M * v)\n",
    "        return vs\n",
    "      \n",
    "    #Input: Matrix A\n",
    "    #Output: Compression of A onto the reduced basis space\n",
    "    def Compress(self, A):\n",
    "        return InnerProduct(self.basis, A * self.basis)\n",
    "            \n",
    "            \n",
    "Vr = ReducedBasis(u, M.mat)"
   ]
  },
  {
   "cell_type": "markdown",
   "id": "fdcee874",
   "metadata": {},
   "source": [
    "Before proceeding with the reduced basis interpolation norm, we need to compute the snapshots, that is, the transformed Zolotarev points  $\\hat{\\mathcal{Z}}_1,\\dots,\\hat{\\mathcal{Z}}_r$ on $[\\lambda_U^{-1}, \\lambda_L^{-1}]$, which are given by\n",
    "\\begin{align*}\n",
    "    \\hat{\\mathcal{Z}_j} = \\frac{\\mathcal{Z}_j}{\\lambda_L},\\qquad  \\mathcal{Z}_j = \\text{dn}\\left(\\frac{2(r-j)+1}{2r}\\mathcal{K}(\\delta'),\\delta'\\right),\\qquad \\delta' = \\sqrt{1-\\delta^2},\\qquad \\delta = \\frac{\\lambda_L}{\\lambda_U},\n",
    "\\end{align*}\n",
    "for all $j = 1,\\dots,r$, where $\\text{dn}$ denotes the Jacobi elliptic function and $\\mathcal{K}$ the complete elliptic integral of first kind. A numerical realization of these functions is provided in the scipy.special package: https://docs.scipy.org/doc/scipy/reference/special.html#module-scipy.special\n",
    "\n",
    "_Remark_: Note that the definition of $\\mathcal{K}$ is not unique in the literature. In our paper, the argument of the elliptic integral is the elliptic modulus $k$. In many textbooks as well as in python, however, the\n",
    "elliptic modulus $k$ is replaced by the parameter $m = k^2$.\n",
    "\n",
    "_Note_: In the computation of the Zolotarev points, we need to compute the elliptic Integral with argument $\\sqrt{1-\\delta^2}$. If $\\delta$ is small, the evaluation of $\\mathcal{K}(\\sqrt{1-\\delta^2})$ is prone to rounding errors. In this regime, one should resort to the numerically more stable implementation of $\\mathcal{K}$ using _ellipkm1_, see  https://docs.scipy.org/doc/scipy/reference/generated/scipy.special.ellipkm1.html?highlight=ellipkm1#scipy.special.ellipkm1"
   ]
  },
  {
   "cell_type": "code",
   "execution_count": 8,
   "id": "65db6fc3",
   "metadata": {},
   "outputs": [],
   "source": [
    "from scipy.special import ellipk, ellipj\n",
    "\n",
    "#define Jacobi elliptic function\n",
    "dn = lambda w,r : ellipj(w,r)[2]\n",
    "\n",
    "def ComputeSnapshots(r, lamL, lamU):\n",
    "    delta = lamL/lamU\n",
    "    m = 1-delta**2\n",
    "    K_ell = ellipk(m)\n",
    "    Zhat = [ 1/lamL * dn( ( 2*(r-i) + 1 )/(2*r) * K_ell, m) for i in range(1,r+1) ]\n",
    "        \n",
    "    return Zhat"
   ]
  },
  {
   "cell_type": "markdown",
   "id": "86c9b592",
   "metadata": {},
   "source": [
    "To compute a reference solution, we apply our reduced basis algorithm and choose $r$ large enough to neglect the arising inaccuracy. According to Theorem 5, the reduced basis interpolation norm is obtained by\n",
    "\\begin{align*}\n",
    "    \\|u\\|_{H_r^s}^2 = u_r^TA_r^su_r,\n",
    "\\end{align*}\n",
    "where $V_r$ is the columnwise arranged matrix that contains the orthonormal basis vectors of the reduced basis space, $u_r$ is the coordinate vector of u with respect to $V_r$, and $A_r = V_r^TAV_r$ is the compression of $A$."
   ]
  },
  {
   "cell_type": "code",
   "execution_count": 9,
   "id": "ded55585",
   "metadata": {},
   "outputs": [
    {
     "name": "stdout",
     "output_type": "stream",
     "text": [
      "Progress: 100/100\r"
     ]
    }
   ],
   "source": [
    "#list of desired fractional exponents\n",
    "s = [0.1, 0.5, 0.9]\n",
    "\n",
    "#Compute transformed Zolotarevpoints\n",
    "snapshots = ComputeSnapshots(100, lamL, lamU)\n",
    "\n",
    "tmp = u.CreateVector()\n",
    "Mat = M.mat.CreateMatrix()\n",
    "\n",
    "Vr.Clear()\n",
    "#Compute reduced basis Vr\n",
    "for i, ti in enumerate(snapshots):\n",
    "    print('Progress: %d/%d\\r'%(i+1, len(snapshots)), end = \"\")\n",
    "    Mat.AsVector().data = M.mat.AsVector() + ti * A.mat.AsVector()\n",
    "    tmp.data = Mat.Inverse(fes.FreeDofs(), inverse = \"sparsecholesky\") * u_exact.vec\n",
    "    Vr.Append(tmp)\n",
    "    \n",
    "norms = []\n",
    "\n",
    "Ar = Vr.Compress(A.mat)\n",
    "evals, evecs = eigh(Ar)\n",
    "us = Vr.Project(u)\n",
    "for i,si in enumerate(s): \n",
    "    D = np.diag([abs(lam)**si for lam in evals])\n",
    "    norm = sqrt(np.transpose(us) @ evecs @ D @ np.transpose(evecs) @ us)           \n",
    "    norms.append(norm)"
   ]
  },
  {
   "cell_type": "markdown",
   "id": "899b0763",
   "metadata": {},
   "source": [
    "Before we illustrate the performance of the reduced basis approximations, we compute its expected convergence rate which is encoded in the constant\n",
    "\\begin{align*}\n",
    "    C^* = \\frac{\\pi \\mathcal{K}(\\mu_1)}{4\\mathcal{K}(\\mu)},\\qquad \\mu = \\left(\\frac{1-\\sqrt{\\delta}}{1+\\sqrt{\\delta}}\\right)^2,\\qquad \\mu_1 = \\sqrt{1-\\mu^2}.\n",
    "\\end{align*}"
   ]
  },
  {
   "cell_type": "code",
   "execution_count": 10,
   "id": "5b10c6af",
   "metadata": {},
   "outputs": [
    {
     "name": "stdout",
     "output_type": "stream",
     "text": [
      "Cstar =  0.5340034883600463\n"
     ]
    }
   ],
   "source": [
    "delta = lamL/lamU\n",
    "mu = (1-sqrt(delta))**4 / (1 + sqrt(delta))**4\n",
    "mu1 = 1-mu**2\n",
    "Cstar = pi * ellipk(mu1) / (4*ellipk(mu))\n",
    "print('Cstar = ', Cstar)"
   ]
  },
  {
   "cell_type": "code",
   "execution_count": 11,
   "id": "f7dc58cb",
   "metadata": {},
   "outputs": [
    {
     "name": "stdout",
     "output_type": "stream",
     "text": [
      "Compute Reduced Space of dimension  2\n",
      "Compute Reduced Space of dimension  3\n",
      "Compute Reduced Space of dimension  4\n",
      "Compute Reduced Space of dimension  5\n",
      "Compute Reduced Space of dimension  6\n",
      "Compute Reduced Space of dimension  7\n",
      "Compute Reduced Space of dimension  8\n",
      "Compute Reduced Space of dimension  9\n",
      "Compute Reduced Space of dimension  10\n",
      "Compute Reduced Space of dimension  11\n",
      "Compute Reduced Space of dimension  12\n",
      "Progress: 11/11\r"
     ]
    }
   ],
   "source": [
    "#for plotting\n",
    "X = []\n",
    "Error0 = []\n",
    "Error1 = []\n",
    "Error2 = []\n",
    "Yref = []\n",
    "num = 12\n",
    "\n",
    "for r in range(1,num):\n",
    "    Vr.Clear()\n",
    "    snapshots = ComputeSnapshots(r, lamL, lamU)\n",
    "    print('Compute Reduced Space of dimension ', r+1)\n",
    "    for i, ti in enumerate(snapshots):\n",
    "        print('Progress: %d/%d\\r'%(i+1, len(snapshots)), end = \"\")\n",
    "        Mat.AsVector().data = M.mat.AsVector() + ti * A.mat.AsVector()\n",
    "        tmp.data = Mat.Inverse(fes.FreeDofs(), inverse = \"sparsecholesky\") * u_exact.vec\n",
    "        Vr.Append(tmp)\n",
    "    \n",
    "    rb_norms = []\n",
    "    Ar = Vr.Compress(A.mat)\n",
    "    evals, evecs = eigh(Ar)\n",
    "    us = Vr.Project(u)\n",
    "    for i,si in enumerate(s): \n",
    "        D = np.diag([abs(lam)**si for lam in evals])\n",
    "        rb_norm = sqrt(np.transpose(us) @ evecs @ D @ np.transpose(evecs) @ us)           \n",
    "        rb_norms.append(rb_norm)\n",
    "\n",
    "    diff = abs(rb_norms[0] - norms[0])\n",
    "    Error0.append(diff)\n",
    "\n",
    "    diff = abs(rb_norms[1] - norms[1])\n",
    "    Error1.append(diff)\n",
    "    \n",
    "    diff = abs(rb_norms[2] - norms[2])\n",
    "    Error2.append(diff)\n",
    "\n",
    "    X.append(r)\n",
    "    Yref.append(1e-5 * exp(-2*Cstar*r))"
   ]
  },
  {
   "cell_type": "code",
   "execution_count": 12,
   "id": "d14665e5",
   "metadata": {},
   "outputs": [
    {
     "data": {
      "image/png": "[encoded data removed]",
      "text/plain": [
       "<Figure size 432x288 with 1 Axes>"
      ]
     },
     "metadata": {
      "needs_background": "light"
     },
     "output_type": "display_data"
    }
   ],
   "source": [
    "import matplotlib.pyplot as plt\n",
    "\n",
    "plt.yscale('log')\n",
    "plt.plot(X,Error0, 'b', label = 's = 0.1')\n",
    "plt.plot(X,Error1, 'g', label = 's = 0.5')\n",
    "plt.plot(X,Error2, 'r', label = 's = 0.9')\n",
    "plt.plot(X,Yref,'y--')\n",
    "plt.xlabel('r')\n",
    "plt.ylabel('error')\n",
    "plt.legend()\n",
    "plt.show()"
   ]
  },
  {
   "cell_type": "markdown",
   "id": "37420faf",
   "metadata": {},
   "source": [
    "In this example, we observe that our reduced basis approximations outperform our predictions and reaches machine precision before the expected convergence rate becomes visible."
   ]
  },
  {
   "cell_type": "code",
   "execution_count": null,
   "id": "bf78442f",
   "metadata": {},
   "outputs": [],
   "source": []
  }
 ],
 "metadata": {
  "kernelspec": {
   "display_name": "Python 3 (ipykernel)",
   "language": "python",
   "name": "python3"
  },
  "language_info": {
   "codemirror_mode": {
    "name": "ipython",
    "version": 3
   },
   "file_extension": ".py",
   "mimetype": "text/x-python",
   "name": "python",
   "nbconvert_exporter": "python",
   "pygments_lexer": "ipython3",
   "version": "3.8.10"
  }
 },
 "nbformat": 4,
 "nbformat_minor": 5
}
