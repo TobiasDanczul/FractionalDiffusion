{
 "cells": [
  {
   "cell_type": "markdown",
   "id": "bd542ffe",
   "metadata": {},
   "source": [
    "# Convergence of the Reduced Basis Operator "
   ]
  },
  {
   "cell_type": "markdown",
   "id": "117cb80b",
   "metadata": {},
   "source": [
    "We are interested in the efficient numerical approximation of $(-\\Delta)^s u$ for $s\\in(0,1)$, where $(-\\Delta)^s$ is the spectral fractional Laplacian on a bounded Lipschitz Domain $\\Omega$. In this example, we choose $\\Omega = \\{\\boldsymbol{x}\\in\\mathbb{R}^2: \\|\\boldsymbol{x}\\| < 1\\}$ to be the unit sphere and set\n",
    "\\begin{align*}\n",
    "    u(\\boldsymbol{x}) = (1-\\|\\boldsymbol{x}\\|)*y^2*\\sin(\\|\\boldsymbol{x}\\|), \\quad\\boldsymbol{x} = (x,y),\n",
    "\\end{align*}\n",
    "where $\\|\\cdot\\|$ denotes the Euclidean norm."
   ]
  },
  {
   "cell_type": "code",
   "execution_count": 1,
   "id": "099d2d01",
   "metadata": {},
   "outputs": [
    {
     "name": "stdout",
     "output_type": "stream",
     "text": [
      "importing NGSolve-6.2.2105\n"
     ]
    }
   ],
   "source": [
    "#import all necessary libraries\n",
    "from ngsolve import *\n",
    "from netgen.geom2d import SplineGeometry\n",
    "import numpy as np"
   ]
  },
  {
   "cell_type": "markdown",
   "id": "2085fa9e",
   "metadata": {},
   "source": [
    "The domain is approximated through a quasi-uniform triangular mesh of mesh-size $h = 0.06$ using the mesh-generator NETGEN. In particular, the boundary $\\partial\\Omega$ is approximated using (non-curved) line segments. We highlight, however, that our theory equally holds true when curved elements are used."
   ]
  },
  {
   "cell_type": "code",
   "execution_count": 2,
   "id": "42e2b640",
   "metadata": {},
   "outputs": [],
   "source": [
    "geo = SplineGeometry()\n",
    "geo.AddCircle((0,0),1, bc = \"circle\")\n",
    "ngmesh = geo.GenerateMesh(maxh = 0.06)\n",
    "mesh = Mesh(ngmesh)"
   ]
  },
  {
   "cell_type": "markdown",
   "id": "64de5416",
   "metadata": {},
   "source": [
    "To approximate the fractional Laplacian, we use a finite element space of polynomial order $2$ subject to homogeneous Dirichlet boundary conditions."
   ]
  },
  {
   "cell_type": "code",
   "execution_count": 3,
   "id": "ac5d4467",
   "metadata": {},
   "outputs": [
    {
     "data": {
      "text/plain": [
       "<ngsolve.comp.BilinearForm at 0x7fe236ca9e30>"
      ]
     },
     "execution_count": 3,
     "metadata": {},
     "output_type": "execute_result"
    }
   ],
   "source": [
    "fes = H1(mesh, order = 2, dirichlet = \"circle\")\n",
    "\n",
    "u, v = fes.TnT()\n",
    "#mass matrix\n",
    "M = BilinearForm(fes, symmetric = True)\n",
    "M +=  SymbolicBFI(u * v)\n",
    "#stiffness matrix\n",
    "A = BilinearForm(fes, symmetric = True)\n",
    "A +=  SymbolicBFI(grad(u) * grad(v))\n",
    "\n",
    "M.Assemble()\n",
    "A.Assemble()"
   ]
  },
  {
   "cell_type": "markdown",
   "id": "399be732",
   "metadata": {},
   "source": [
    "We now approximate the function $u$ by its $L_2$-orthonormal projection onto the finite element space."
   ]
  },
  {
   "cell_type": "code",
   "execution_count": 4,
   "id": "e5775027",
   "metadata": {},
   "outputs": [],
   "source": [
    "u_exact = LinearForm(fes)\n",
    "u_exact += (1-sqrt(x*x+y*y)) * y**2 * sin(sqrt(x*x+y*y)) * v * dx \n",
    "u_exact.Assemble()\n",
    "\n",
    "u = u_exact.vec.CreateVector()\n",
    "u.data = M.mat.Inverse(fes.FreeDofs(), inverse = 'sparsecholesky') * u_exact.vec"
   ]
  },
  {
   "cell_type": "markdown",
   "id": "ccb1b678",
   "metadata": {},
   "source": [
    "For defining our reduced basis operator, we need to avail ourselves of the extremal eigenvalues (or good bounds for it) of the eigenvalue problem\n",
    "\\begin{align*}\n",
    "    \\langle \\nabla \\varphi_j, \\nabla v \\rangle_{L_2} = \\lambda_j \\langle \\varphi_j, v \\rangle_{L_2}\n",
    "\\end{align*}\n",
    "for all $v$ being contained in the finite element space. Since the _exact_ eigenvalues of $-\\Delta$ are given in closed form, we can bound the smallest eigenvalue by $1$. Hence, we set"
   ]
  },
  {
   "cell_type": "code",
   "execution_count": 5,
   "id": "83020de0",
   "metadata": {},
   "outputs": [],
   "source": [
    "lamL = 1"
   ]
  },
  {
   "cell_type": "markdown",
   "id": "4258b1f8",
   "metadata": {},
   "source": [
    "Good analytical bounds for the largest eigenvalue are not available. We therefore approximate it by power iteration. "
   ]
  },
  {
   "cell_type": "code",
   "execution_count": 6,
   "id": "3acbcfbe",
   "metadata": {},
   "outputs": [
    {
     "name": "stdout",
     "output_type": "stream",
     "text": [
      "The upper bound for the largest eigenvalue is given by lamU =  49723.32001082354\n"
     ]
    }
   ],
   "source": [
    "def PowerIteration(A, M, FreeDofs = None, tol = 1e-8, maxit = 1e4):\n",
    "    \n",
    "    tmp1 = BaseVector(A.width)\n",
    "    tmp2 = tmp1.CreateVector()\n",
    "    w = tmp1.CreateVector()\n",
    "    w.FV().NumPy()[:] = np.random.rand(A.width)\n",
    "\n",
    "    lamold = 0\n",
    "    diff = 100\n",
    "    counter = 0\n",
    "    with TaskManager():\n",
    "        Minv = M.Inverse(FreeDofs, inverse = \"sparsecholesky\")\n",
    "        while (diff > tol and counter < maxit):\n",
    "            tmp1.data = A * w\n",
    "            tmp2.data = Minv * tmp1\n",
    "\n",
    "            w.data = 1/sqrt(InnerProduct(tmp2,tmp2)) * tmp2\n",
    "            lam = InnerProduct(w,tmp2)/InnerProduct(w,w)\n",
    "\n",
    "            diff = abs(lam-lamold)\n",
    "            lamold = lam\n",
    "            counter += 1\n",
    "\n",
    "        if (counter == maxit):\n",
    "            print('RuntimeWarning: Power Iteration did not converge! Difference = ', diff)\n",
    "                \n",
    "        return lam\n",
    " \n",
    "lamU = PowerIteration(A.mat, M.mat, FreeDofs = fes.FreeDofs()) + 1\n",
    "print('The upper bound for the largest eigenvalue is given by lamU = ', lamU)"
   ]
  },
  {
   "cell_type": "markdown",
   "id": "912a2134",
   "metadata": {},
   "source": [
    "Provided these quantities, we are now in position to introduce the reduced basis operator. According to Theorem 5, this is obtained by\n",
    "\\begin{align*}\n",
    "    L_{H_r^s}u = V_rA_r^su_r,\n",
    "\\end{align*}\n",
    "where $V_r$ is the columnwise arranged matrix that contains the orthonormal basis vectors of the reduced basis space, $u_r$ is the coordinate vector of u with respect to $V_r$, and $A_r = V_r^TAV_r$ is the compression of $A$."
   ]
  },
  {
   "cell_type": "code",
   "execution_count": 7,
   "id": "c507d07b",
   "metadata": {},
   "outputs": [],
   "source": [
    "from scipy.linalg import eigh\n",
    "\n",
    "class ReducedBasisOperator():\n",
    "    def __init__(self, u, FreeDofs, A, M, lamL, lamU):\n",
    "       \n",
    "        self.u = u\n",
    "        #Create reduced basis\n",
    "        self.basis = MultiVector(u, 1)\n",
    "        self.basis[0].data = 1/sqrt(InnerProduct(u, M * u)) * u\n",
    "        \n",
    "        self.FreeDofs = FreeDofs\n",
    "        self.M = M\n",
    "        self.A = A\n",
    "        self.lamL = lamL\n",
    "        self.lamU = lamU\n",
    "    \n",
    "    #Input: new basis vector bv\n",
    "    #Adds othonormalized vector to reduced basis  \n",
    "    def Append(self, bv):\n",
    "        self.basis.AppendOrthogonalize(bv, self.M)\n",
    "        \n",
    "        #reorthogonalize twice for numerical purposes\n",
    "        self.basis.Orthogonalize(self.M)\n",
    "        self.basis.Orthogonalize(self.M)\n",
    "        \n",
    "        #normalize orthogonalized vector\n",
    "        norm = sqrt(InnerProduct(self.basis[-1], self.M * self.basis[-1]))\n",
    "        self.basis[-1].data *= 1/norm\n",
    "\n",
    "    #Input: -\n",
    "    #Output: Dimension of reduced basis space\n",
    "    def Dim(self):\n",
    "        return len(self.basis)\n",
    "  \n",
    "    #Discards all basis vectors but the first one\n",
    "    def Clear(self):\n",
    "        tmp = self.u.CreateVector()\n",
    "        tmp.data = self.basis[0]\n",
    "        self.basis = MultiVector(self.u, 1)\n",
    "        self.basis[0].data = tmp\n",
    "    \n",
    "    #Input: Coordinate vector vs\n",
    "    #Output: Prolongation of vs\n",
    "    def Prolongate(self, vs):\n",
    "        v = self.u.CreateVector()\n",
    "        v[:] = 0.0\n",
    "        for i in range(self.Dim()):\n",
    "            v.data += vs[i] * self.basis[i]\n",
    "        return v\n",
    "\n",
    "    #Input: Vector v\n",
    "    #Output: M-othogonal projection of v onto the reduced basis space\n",
    "    def Project(self, v):\n",
    "        vs = Vector(self.Dim())\n",
    "        for i in range(self.Dim()):\n",
    "                vs[i] = InnerProduct(self.basis[i], self.M * v)\n",
    "        return vs\n",
    "      \n",
    "    #Input: List of real numbers s = [s1, s2, ..., sk] contained in [0,1]     \n",
    "    #Output: List of reduced basis approximation of L^s1 * u, L^s2 * u, ..., L^sk * u,\n",
    "    #        where L is the negative Laplacian \n",
    "    def ApplyFractionalPower(self, s):\n",
    "        u = [self.u.CreateVector() for i in range(len(s))]\n",
    "        \n",
    "        Ar = InnerProduct(self.basis, self.A * self.basis)\n",
    "        evals, evecs = eigh(Ar)\n",
    "        us = self.Project(self.u)\n",
    "        for i,si in enumerate(s): \n",
    "            D = np.diag([abs(lam)**si for lam in evals])\n",
    "            coef = evecs @ D @ np.transpose(evecs) @ us           \n",
    "            u[i].data = self.Prolongate(coef)\n",
    "            \n",
    "        return u       \n",
    "    \n",
    "    #Input: List of real numbers, the so-called snapshots\n",
    "    #Output: NGSolve MultiVector object whose elements form an orthonormal basis of the reduced basis space    \n",
    "    def ComputeReducedSpace(self, snapshots, dispsolves = True):    \n",
    "        self.Clear()\n",
    "        \n",
    "        tmp1 = self.u.CreateVector()\n",
    "        tmp2 = self.u.CreateVector()\n",
    "        \n",
    "        tmp1.data = self.M * self.u\n",
    "        Mat = self.M.CreateMatrix()\n",
    "        MatInv = None\n",
    "        for i,ti in enumerate(snapshots):\n",
    "            if dispsolves: print('Progress: %d/%d\\r'%(i+1, len(snapshots)), end = \"\")\n",
    "            Mat.AsVector().data = self.M.AsVector() + ti * self.A.AsVector()\n",
    "            if MatInv is None:\n",
    "                MatInv = Mat.Inverse(self.FreeDofs, inverse = \"sparsecholesky\")\n",
    "            else:\n",
    "                MatInv.Update()\n",
    "            tmp2.data = MatInv * tmp1\n",
    "            self.Append(tmp2)\n",
    "            \n",
    "            \n",
    "Lr = ReducedBasisOperator(u, fes.FreeDofs(), A.mat, M.mat, lamL, lamU)"
   ]
  },
  {
   "cell_type": "markdown",
   "id": "08b39030",
   "metadata": {},
   "source": [
    "Before proceeding with the reduced basis operator, we need to compute the snapshots, that is, the transformed Zolotarev points  $\\hat{\\mathcal{Z}}_1,\\dots,\\hat{\\mathcal{Z}}_r$ on $[\\lambda_U^{-1}, \\lambda_L^{-1}],$ which are given by\n",
    "\\begin{align*}\n",
    "    \\hat{\\mathcal{Z}_j} = \\frac{\\mathcal{Z}_j}{\\lambda_L},\\qquad  \\mathcal{Z}_j = \\text{dn}\\left(\\frac{2(r-j)+1}{2r}\\mathcal{K}(\\delta'),\\delta'\\right),\\qquad \\delta' = \\sqrt{1-\\delta^2},\\qquad \\delta = \\frac{\\lambda_L}{\\lambda_U}\n",
    "\\end{align*}\n",
    "for all $j = 1,\\dots,r$, where $\\text{dn}$ denotes the Jacobi elliptic function and $\\mathcal{K}$ the complete elliptic integral of first kind. A numerical realization of these functions is provided in the scipy.special package: https://docs.scipy.org/doc/scipy/reference/special.html#module-scipy.special.\n",
    "\n",
    "_Remark_: Note that the definition of $\\mathcal{K}$ is not unique in the literature. In our paper, the argument of the elliptic integral is the elliptic modulus $k$. In many textbooks as well as in python, however, the\n",
    "elliptic modulus $k$ is replaced by the parameter $m = k^2$.\n",
    "\n",
    "_Note_: In the computation of the Zolotarev points, we need to compute the elliptic Integral with argument $\\sqrt{1-\\delta^2}$. If $\\delta$ is small, the evaluation of $\\mathcal{K}(\\sqrt{1-\\delta^2})$ is prone to rounding errors. In this regime, one should resort to the numerically more stable implementation of $\\mathcal{K}$ using _ellipkm1_, see  https://docs.scipy.org/doc/scipy/reference/generated/scipy.special.ellipkm1.html?highlight=ellipkm1#scipy.special.ellipkm1"
   ]
  },
  {
   "cell_type": "code",
   "execution_count": 8,
   "id": "ec8be845",
   "metadata": {},
   "outputs": [],
   "source": [
    "from scipy.special import ellipk, ellipj\n",
    "\n",
    "#define Jacobi elliptic function\n",
    "dn = lambda w,r : ellipj(w,r)[2]\n",
    "\n",
    "def ComputeSnapshots(r, lamL, lamU):\n",
    "    delta = lamL/lamU\n",
    "    m = 1-delta**2\n",
    "    K_ell = ellipk(m)\n",
    "    Zhat = [ 1/lamL * dn( ( 2*(r-i) + 1 )/(2*r) * K_ell, m) for i in range(1,r+1) ]\n",
    "        \n",
    "    return Zhat"
   ]
  },
  {
   "cell_type": "markdown",
   "id": "0d4a1706",
   "metadata": {},
   "source": [
    "To compute a reference solution, we apply our reduced basis algorithm and choose $r$ large enough to neglect the arising inaccuracy."
   ]
  },
  {
   "cell_type": "code",
   "execution_count": 9,
   "id": "6afece49",
   "metadata": {},
   "outputs": [
    {
     "name": "stdout",
     "output_type": "stream",
     "text": [
      "Progress: 100/100\r"
     ]
    }
   ],
   "source": [
    "s = [0.1,0.5,0.9]\n",
    "\n",
    "snapshots = ComputeSnapshots(100, lamL, lamU)\n",
    "Lr.ComputeReducedSpace(snapshots)\n",
    "ref = Lr.ApplyFractionalPower(s)"
   ]
  },
  {
   "cell_type": "markdown",
   "id": "5b537b37",
   "metadata": {},
   "source": [
    "Before we illustrate the performance of the reduced basis approximations, we compute its expected convergence rate which is encoded in the constant\n",
    "\\begin{align*}\n",
    "    C^* = \\frac{\\pi \\mathcal{K}(\\mu_1)}{4\\mathcal{K}(\\mu)},\\qquad \\mu = \\left(\\frac{1-\\sqrt{\\delta}}{1+\\sqrt{\\delta}}\\right)^2,\\qquad \\mu_1 = \\sqrt{1-\\mu^2}.\n",
    "\\end{align*}"
   ]
  },
  {
   "cell_type": "code",
   "execution_count": 10,
   "id": "246766d5",
   "metadata": {},
   "outputs": [
    {
     "name": "stdout",
     "output_type": "stream",
     "text": [
      "Cstar =  0.40809412442381743\n"
     ]
    }
   ],
   "source": [
    "delta = lamL/lamU\n",
    "mu = (1-sqrt(delta))**4 / (1 + sqrt(delta))**4\n",
    "mu1 = 1-mu**2\n",
    "Cstar = pi * ellipk(mu1) / (4*ellipk(mu) )\n",
    "print('Cstar = ', Cstar) "
   ]
  },
  {
   "cell_type": "code",
   "execution_count": 11,
   "id": "2ea7e334",
   "metadata": {},
   "outputs": [
    {
     "name": "stdout",
     "output_type": "stream",
     "text": [
      "Compute Reduced Space of dimension  2\n",
      "Compute Reduced Space of dimension  4\n",
      "Compute Reduced Space of dimension  6\n",
      "Compute Reduced Space of dimension  8\n",
      "Compute Reduced Space of dimension  10\n",
      "Compute Reduced Space of dimension  12\n",
      "Compute Reduced Space of dimension  14\n",
      "Compute Reduced Space of dimension  16\n",
      "Compute Reduced Space of dimension  18\n",
      "Compute Reduced Space of dimension  20\n",
      "Compute Reduced Space of dimension  22\n",
      "Compute Reduced Space of dimension  24\n",
      "Compute Reduced Space of dimension  26\n",
      "Progress: 25/25\r"
     ]
    }
   ],
   "source": [
    "X = []\n",
    "Error0 = []\n",
    "Error1 = []\n",
    "Error2 = []\n",
    "Yref = []\n",
    "diff = u.CreateVector()\n",
    "num = 26\n",
    "for r in range(1,num,2):\n",
    "    print('Compute Reduced Space of dimension ', r+1)\n",
    "    snapshots = ComputeSnapshots(r, lamL, lamU)\n",
    "    Lr.ComputeReducedSpace(snapshots)\n",
    "    sol = Lr.ApplyFractionalPower(s)\n",
    "\n",
    "    diff.data = ref[0] - sol[0]\n",
    "    Error0.append(sqrt(InnerProduct(diff, M.mat* diff)))\n",
    "\n",
    "    diff.data = ref[1] - sol[1]\n",
    "    Error1.append(sqrt(InnerProduct(diff, M.mat * diff)))\n",
    "\n",
    "    diff.data = ref[2] - sol[2]\n",
    "    Error2.append(sqrt(InnerProduct(diff, M.mat * diff)))\n",
    "\n",
    "    X.append(r)\n",
    "    Yref.append(10*exp(-Cstar*r))"
   ]
  },
  {
   "cell_type": "code",
   "execution_count": 12,
   "id": "e3dd9145",
   "metadata": {},
   "outputs": [
    {
     "data": {
      "image/png": "[encoded data removed]",
      "text/plain": [
       "<Figure size 432x288 with 1 Axes>"
      ]
     },
     "metadata": {
      "needs_background": "light"
     },
     "output_type": "display_data"
    }
   ],
   "source": [
    "import matplotlib.pyplot as plt\n",
    "\n",
    "plt.yscale('log')\n",
    "plt.plot(X,Error0, 'c', label = 's = 0.1')\n",
    "plt.plot(X,Error1, 'g', label = 's = 0.5')\n",
    "plt.plot(X,Error2, 'r', label = 's = 0.9')\n",
    "plt.plot(X,Yref,'b--')\n",
    "plt.xlabel('r')\n",
    "plt.ylabel('error')\n",
    "plt.legend()\n",
    "plt.show()"
   ]
  },
  {
   "cell_type": "markdown",
   "id": "e8ca6489",
   "metadata": {},
   "source": [
    "# Sensitivity with respect to the Condition Number\n",
    "\n",
    "It is evident that the performance of our method relies on the condition of the problem, i.e., the ration of the spectral bounds, and thus on the mesh parameter $h$. In the following, we plot the convergence rates of the reduced basis approximation for decreasing mesh parameter $h = 2^{-i}$, $i = 3,5,7$."
   ]
  },
  {
   "cell_type": "code",
   "execution_count": 13,
   "id": "2244e18e",
   "metadata": {},
   "outputs": [
    {
     "name": "stdout",
     "output_type": "stream",
     "text": [
      "h =  0.125\n",
      "Compute spectral bound\n",
      "Compute reference solution\n",
      "Compute reduced basis approximations\n",
      "h =  0.03125\n",
      "Compute spectral bound\n",
      "Compute reference solution\n",
      "Compute reduced basis approximations\n",
      "h =  0.0078125\n",
      "Compute spectral bound\n",
      "Compute reference solution\n",
      "Compute reduced basis approximations\n"
     ]
    }
   ],
   "source": [
    "geo = SplineGeometry()\n",
    "geo.AddCircle((0,0),1, bc = \"circle\")\n",
    "\n",
    "#Smallest Eigenvalue remains uniformly bounded by 1\n",
    "lamL = 1\n",
    "s = [0.1]\n",
    "\n",
    "#for plotting\n",
    "X = []\n",
    "i_start = 2\n",
    "i_end = 5\n",
    "Y = []\n",
    "for i in range(i_start,i_end):\n",
    "\n",
    "    h = 1/(2**(2*i-1))\n",
    "    print(\"h = \", h)\n",
    "    ngmesh = geo.GenerateMesh(maxh = h)\n",
    "    mesh = Mesh(ngmesh)\n",
    "\n",
    "    fes = H1(mesh, order = 1, dirichlet = \"circle\")\n",
    "    u, v = fes.TnT()\n",
    "\n",
    "    M = BilinearForm(fes, symmetric = True)\n",
    "    M +=  SymbolicBFI(u * v)\n",
    "    A = BilinearForm(fes, symmetric = True)\n",
    "    A +=  SymbolicBFI(grad(u) * grad(v))\n",
    "    M.Assemble()\n",
    "    A.Assemble()\n",
    "\n",
    "    print('Compute spectral bound')\n",
    "    lamU = PowerIteration(A.mat, M.mat, FreeDofs = fes.FreeDofs()) + 1\n",
    "\n",
    "    u = BaseVector(M.mat.width)\n",
    "    #Randomly initialize vector\n",
    "    u.FV().NumPy()[:] = np.random.rand(M.mat.width)\n",
    "    #enforce homogeneous Dirichlet BC\n",
    "    for j, val in enumerate(fes.FreeDofs()):\n",
    "            if val == 0: u[j] = 0\n",
    "\n",
    "    print('Compute reference solution')\n",
    "    Lr = ReducedBasisOperator(u, fes.FreeDofs(), A.mat, M.mat, lamL, lamU)\n",
    "    snapshots = ComputeSnapshots(100, lamL, lamU)\n",
    "    Lr.ComputeReducedSpace(snapshots, dispsolves = False)\n",
    "    ref = Lr.ApplyFractionalPower(s)\n",
    "\n",
    "    yi = []\n",
    "    diff = u.CreateVector()\n",
    "    print('Compute reduced basis approximations')\n",
    "    for j in range(1,26):\n",
    "        snapshots = ComputeSnapshots(j, lamL, lamU)\n",
    "        Lr.ComputeReducedSpace(snapshots, dispsolves = False)\n",
    "        u = Lr.ApplyFractionalPower(s)\n",
    "        diff.data = ref[0] - u[0]\n",
    "        error = sqrt(InnerProduct(diff, M.mat * diff))\n",
    "        yi.append(error)\n",
    "        \n",
    "        if (i == i_start):\n",
    "                X.append(j)\n",
    "    Y.append(yi)\n"
   ]
  },
  {
   "cell_type": "code",
   "execution_count": 14,
   "id": "7fd849c7",
   "metadata": {},
   "outputs": [
    {
     "data": {
      "image/png": "[encoded data removed]",
      "text/plain": [
       "<Figure size 432x288 with 1 Axes>"
      ]
     },
     "metadata": {
      "needs_background": "light"
     },
     "output_type": "display_data"
    }
   ],
   "source": [
    "plt.yscale('log')\n",
    "plt.plot(X,Y[0],'y', label = 'i = 3')\n",
    "plt.plot(X,Y[1],'g', label = 'i = 5')\n",
    "plt.plot(X,Y[2],'r', label = 'i = 7')\n",
    "plt.legend()\n",
    "plt.show()"
   ]
  },
  {
   "cell_type": "markdown",
   "id": "c81ee4c8",
   "metadata": {},
   "source": [
    "As expected, the performance of our algorithm deteriorates (logarithmically) as the discrete operator becomes ill-conditioned."
   ]
  },
  {
   "cell_type": "markdown",
   "id": "48db1959",
   "metadata": {},
   "source": [
    "# L-shape domain\n",
    "\n",
    "To confirm that our analysis also holds true in the case of non-convex domains, we illustrate the performance of our reduced basis algorithm on the L-shape domain $\\Omega = (0,1)^2\\setminus([0.5,1]\\times[0,0.5])$."
   ]
  },
  {
   "cell_type": "code",
   "execution_count": 15,
   "id": "26624b12",
   "metadata": {},
   "outputs": [
    {
     "data": {
      "text/plain": [
       "<ngsolve.comp.BilinearForm at 0x7fe1bd4bc930>"
      ]
     },
     "execution_count": 15,
     "metadata": {},
     "output_type": "execute_result"
    }
   ],
   "source": [
    "geo = SplineGeometry()\n",
    "\n",
    "pnts =[(0,0),(1,0),(1,1),(0.5,1),(0.5,0.5),(0,0.5)]\n",
    "p1,p2,p3,p4,p5,p6 = [geo.AppendPoint(*pnt) for pnt in pnts]\n",
    "curves = [[[\"line\",p1,p2],\"bottom\"],\n",
    "          [[\"line\",p2,p3],\"right_top\"],\n",
    "          [[\"line\",p3,p4],\"top_right\"],\n",
    "          [[\"line\",p4,p5],\"right_low\"],\n",
    "          [[\"line\",p5,p6],\"top_left\"],\n",
    "          [[\"line\",p6,p1],\"left\"]]\n",
    "[geo.Append(c,bc=bc) for c,bc in curves]\n",
    "\n",
    "#mesh-size = 0.02\n",
    "ngmesh = geo.GenerateMesh(maxh = 0.02)\n",
    "mesh = Mesh(ngmesh)\n",
    "\n",
    "#polynomial order = 1\n",
    "fes = H1(mesh, order=1, dirichlet = \"bottom|right_top|top_right|right_low|top_left|left\")\n",
    "\n",
    "u, v = fes.TnT()\n",
    "#mass matrix\n",
    "M = BilinearForm(fes, symmetric = True)\n",
    "M +=  SymbolicBFI(u * v)\n",
    "#stiffness matrix\n",
    "A = BilinearForm(fes, symmetric = True)\n",
    "A +=  SymbolicBFI(grad(u) * grad(v))\n",
    "\n",
    "M.Assemble()\n",
    "A.Assemble()"
   ]
  },
  {
   "cell_type": "markdown",
   "id": "e3d1ce0e",
   "metadata": {},
   "source": [
    "In this example, we set $u(\\boldsymbol{x}) = 1$ to be the constant one function. "
   ]
  },
  {
   "cell_type": "code",
   "execution_count": 16,
   "id": "b21c2ce5",
   "metadata": {},
   "outputs": [],
   "source": [
    "u_exact = LinearForm(fes)\n",
    "u_exact += 1 * v * dx \n",
    "u_exact.Assemble()\n",
    "\n",
    "u = u_exact.vec.CreateVector()\n",
    "u.data = M.mat.Inverse(fes.FreeDofs(), inverse = 'sparsecholesky') * u_exact.vec"
   ]
  },
  {
   "cell_type": "markdown",
   "id": "e7676fbc",
   "metadata": {},
   "source": [
    "The extremal eigenvalues are approximated using power iteration and the rational arnoldi algorithm. The latter is available in NGSolve."
   ]
  },
  {
   "cell_type": "code",
   "execution_count": 17,
   "id": "d94154da",
   "metadata": {},
   "outputs": [
    {
     "name": "stdout",
     "output_type": "stream",
     "text": [
      "n = 2252, m = 41 n*m*m = 3785612\n",
      "Solve Hessenberg evp with Lapack ... done\n",
      "lamU =  85055.36292259293\n",
      "lamL =  38.68700682652776\n"
     ]
    }
   ],
   "source": [
    "lamU = PowerIteration(A.mat, M.mat, FreeDofs = fes.FreeDofs()) + 1\n",
    "\n",
    "multidim = 20\n",
    "EigenVec = [u.CreateVector() for i in range(multidim)]\n",
    "Lam = ArnoldiSolver(A.mat, M.mat, fes.FreeDofs(), EigenVec, 0)\n",
    "lamL = np.real(Lam[0])\n",
    "        \n",
    "print('lamU = ', lamU)\n",
    "print('lamL = ', lamL)"
   ]
  },
  {
   "cell_type": "code",
   "execution_count": 22,
   "id": "94f9de64",
   "metadata": {},
   "outputs": [
    {
     "name": "stdout",
     "output_type": "stream",
     "text": [
      "Progress: 100/100\r"
     ]
    }
   ],
   "source": [
    "s = [0.25, 0.5, 0.75]\n",
    "Lr = ReducedBasisOperator(u, fes.FreeDofs(), A.mat, M.mat, lamL, lamU)\n",
    "snapshots = ComputeSnapshots(100, lamL, lamU)\n",
    "Lr.ComputeReducedSpace(snapshots)\n",
    "ref = Lr.ApplyFractionalPower(s)"
   ]
  },
  {
   "cell_type": "code",
   "execution_count": 23,
   "id": "b070db04",
   "metadata": {},
   "outputs": [
    {
     "name": "stdout",
     "output_type": "stream",
     "text": [
      "Cstar =  0.5662791525430049\n"
     ]
    }
   ],
   "source": [
    "delta = lamL/lamU\n",
    "mu = (1-sqrt(delta))**4 / (1 + sqrt(delta))**4\n",
    "mu1 = 1-mu**2\n",
    "Cstar = pi * ellipk(mu1) / (4*ellipk(mu) )\n",
    "print('Cstar = ', Cstar)"
   ]
  },
  {
   "cell_type": "code",
   "execution_count": 24,
   "id": "cd57ddde",
   "metadata": {},
   "outputs": [
    {
     "name": "stdout",
     "output_type": "stream",
     "text": [
      "Compute Reduced Space of dimension  2\n",
      "Compute Reduced Space of dimension  3\n",
      "Compute Reduced Space of dimension  4\n",
      "Compute Reduced Space of dimension  5\n",
      "Compute Reduced Space of dimension  6\n",
      "Compute Reduced Space of dimension  7\n",
      "Compute Reduced Space of dimension  8\n",
      "Compute Reduced Space of dimension  9\n",
      "Compute Reduced Space of dimension  10\n",
      "Compute Reduced Space of dimension  11\n",
      "Compute Reduced Space of dimension  12\n",
      "Compute Reduced Space of dimension  13\n",
      "Compute Reduced Space of dimension  14\n",
      "Compute Reduced Space of dimension  15\n",
      "Compute Reduced Space of dimension  16\n",
      "Compute Reduced Space of dimension  17\n",
      "Compute Reduced Space of dimension  18\n",
      "Compute Reduced Space of dimension  19\n",
      "Compute Reduced Space of dimension  20\n",
      "Compute Reduced Space of dimension  21\n",
      "Compute Reduced Space of dimension  22\n",
      "Compute Reduced Space of dimension  23\n",
      "Compute Reduced Space of dimension  24\n",
      "Compute Reduced Space of dimension  25\n",
      "Compute Reduced Space of dimension  26\n",
      "Compute Reduced Space of dimension  27\n",
      "Compute Reduced Space of dimension  28\n",
      "Compute Reduced Space of dimension  29\n",
      "Compute Reduced Space of dimension  30\n",
      "Progress: 29/29\r"
     ]
    }
   ],
   "source": [
    "X = []\n",
    "Error0 = []\n",
    "Error1 = []\n",
    "Error2 = []\n",
    "Yref = []\n",
    "diff = u.CreateVector()\n",
    "num = 30\n",
    "for r in range(1,num):\n",
    "    print('Compute Reduced Space of dimension ', r+1)\n",
    "    snapshots = ComputeSnapshots(r, lamL, lamU)\n",
    "    Lr.ComputeReducedSpace(snapshots)\n",
    "    sol = Lr.ApplyFractionalPower(s)\n",
    "    \n",
    "    diff.data = ref[0] - sol[0]\n",
    "    Error0.append(sqrt(InnerProduct(diff, M.mat* diff)))\n",
    "    \n",
    "    diff.data = ref[1] - sol[1]\n",
    "    Error1.append(sqrt(InnerProduct(diff, M.mat * diff)))\n",
    "    \n",
    "    diff.data = ref[2] - sol[2]\n",
    "    Error2.append(sqrt(InnerProduct(diff, M.mat * diff)))\n",
    "    \n",
    "    X.append(r)\n",
    "    Yref.append(3*10**7*exp(-Cstar*r))"
   ]
  },
  {
   "cell_type": "code",
   "execution_count": 25,
   "id": "70902ff7",
   "metadata": {},
   "outputs": [
    {
     "data": {
      "image/png": "[encoded data removed]",
      "text/plain": [
       "<Figure size 432x288 with 1 Axes>"
      ]
     },
     "metadata": {
      "needs_background": "light"
     },
     "output_type": "display_data"
    }
   ],
   "source": [
    "plt.yscale('log')\n",
    "plt.plot(X,Error0, 'c', label = 's = 0.1')\n",
    "plt.plot(X,Error1, 'g', label = 's = 0.5')\n",
    "plt.plot(X,Error2, 'r', label = 's = 0.9')\n",
    "plt.plot(X,Yref,'b--')\n",
    "plt.xlabel('r')\n",
    "plt.ylabel('error')\n",
    "plt.legend()\n",
    "plt.show()"
   ]
  },
  {
   "cell_type": "code",
   "execution_count": null,
   "id": "c6f3fe8f",
   "metadata": {},
   "outputs": [],
   "source": []
  }
 ],
 "metadata": {
  "kernelspec": {
   "display_name": "Python 3 (ipykernel)",
   "language": "python",
   "name": "python3"
  },
  "language_info": {
   "codemirror_mode": {
    "name": "ipython",
    "version": 3
   },
   "file_extension": ".py",
   "mimetype": "text/x-python",
   "name": "python",
   "nbconvert_exporter": "python",
   "pygments_lexer": "ipython3",
   "version": "3.8.10"
  }
 },
 "nbformat": 4,
 "nbformat_minor": 5
}
